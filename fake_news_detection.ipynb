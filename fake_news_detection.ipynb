{
  "nbformat": 4,
  "nbformat_minor": 0,
  "metadata": {
    "colab": {
      "provenance": [],
      "authorship_tag": "ABX9TyPdOKqbm5ZkneM63gwK+4QR",
      "include_colab_link": true
    },
    "kernelspec": {
      "name": "python3",
      "display_name": "Python 3"
    },
    "language_info": {
      "name": "python"
    }
  },
  "cells": [
    {
      "cell_type": "markdown",
      "metadata": {
        "id": "view-in-github",
        "colab_type": "text"
      },
      "source": [
        "<a href=\"https://colab.research.google.com/github/madhura2024/fake_news_using_cnn/blob/main/fake_news_detection.ipynb\" target=\"_parent\"><img src=\"https://colab.research.google.com/assets/colab-badge.svg\" alt=\"Open In Colab\"/></a>"
      ]
    },
    {
      "cell_type": "code",
      "source": [
        "import pandas as pd\n",
        "from sklearn.model_selection import train_test_split\n",
        "import re\n",
        "from tensorflow.keras.preprocessing.text import Tokenizer\n",
        "from tensorflow.keras.preprocessing.sequence import pad_sequences\n",
        "from tensorflow.keras.models import Sequential\n",
        "from tensorflow.keras.layers import Embedding, LSTM, Dense\n",
        "\n",
        "# Load dataset\n",
        "df = pd.read_csv(\"https://raw.githubusercontent.com/GeorgeMcIntire/fake_real_news_dataset/master/fake_and_real_news_dataset.csv\")\n",
        "\n",
        "def clean_text(text):\n",
        "    text = re.sub(r\"http\\S+|www\\S+|[^a-z ]\", \" \", text)  # remove links + non-letters\n",
        "    text = re.sub(r\"\\s+\", \" \", text)                 # remove extra spaces\n",
        "    return text\n",
        "\n",
        "df = df.dropna().drop_duplicates()\n",
        "df['text'] = df['text'].str.lower().str.strip()\n",
        "df['clean_text'] = df['text'].apply(clean_text)\n",
        "\n",
        "x = df['clean_text']\n",
        "y = df['label'].map({'FAKE': 1, 'REAL': 0})  # convert labels to binary: FAKE=1, REAL=0\n",
        "x_train, x_test, y_train, y_test = train_test_split(x, y, test_size=0.2, random_state=11)\n",
        "\n",
        "# Computers don’t understand words, only numbers.\n",
        "# Tokenizer turns each word into a number. But sentences have different lengths. Neural networks need same length.\n",
        "# So we use padding to make them equal\n",
        "# oov_token keeps track id of each new word\n",
        "# all strings have to be same len once in numeric form so add 0 at the end\n",
        "\n",
        "tok = Tokenizer(num_words=5000, oov_token=\"<OOV>\")\n",
        "tok.fit_on_texts(x_train)\n",
        "\n",
        "x_train_seq = tok.texts_to_sequences(x_train)\n",
        "x_test_seq = tok.texts_to_sequences(x_test)\n",
        "\n",
        "maxlen = 20\n",
        "x_train_pad = pad_sequences(x_train_seq, maxlen=maxlen, padding='post')\n",
        "x_test_pad = pad_sequences(x_test_seq, maxlen=maxlen, padding='post')\n",
        "\n",
        "# Sentences are sequences (word order matters).\n",
        "# Normal dense layers can’t remember order.\n",
        "# LSTM = a special RNN that solves the memory problem.\n",
        "# throw away? remember data? conclude?\n",
        "\n",
        "# Embedding Layer = turns words (numbers) into word vectors\n",
        "# input_dim=10000 → we keep only 10,000 most common words\n",
        "# output_dim=64 → each word becomes a 64-length vector\n",
        "# squashes output to 0–1 probability. Close to 0 → “Real”, Close to 1 → “Fake”\n",
        "\n",
        "# input_length=200 → each sentence will be 200 words long (after padding)\n",
        "model = Sequential([\n",
        "    Embedding(input_dim=5000, output_dim=64, input_length=maxlen),\n",
        "    LSTM(64),\n",
        "    Dense(1, activation='sigmoid')\n",
        "])\n",
        "\n",
        "model.compile(optimizer='adam', loss='binary_crossentropy', metrics=['accuracy'])\n",
        "\n",
        "model.fit(x_train_pad, y_train, epochs=5, batch_size=32, validation_data=(x_test_pad, y_test))\n"
      ],
      "metadata": {
        "colab": {
          "base_uri": "https://localhost:8080/"
        },
        "id": "CeVkBcLwt3tt",
        "outputId": "f4874848-69fb-498b-f714-3c19979d46ef"
      },
      "execution_count": 30,
      "outputs": [
        {
          "output_type": "stream",
          "name": "stdout",
          "text": [
            "Epoch 1/5\n"
          ]
        },
        {
          "output_type": "stream",
          "name": "stderr",
          "text": [
            "/usr/local/lib/python3.12/dist-packages/keras/src/layers/core/embedding.py:97: UserWarning: Argument `input_length` is deprecated. Just remove it.\n",
            "  warnings.warn(\n"
          ]
        },
        {
          "output_type": "stream",
          "name": "stdout",
          "text": [
            "\u001b[1m115/115\u001b[0m \u001b[32m━━━━━━━━━━━━━━━━━━━━\u001b[0m\u001b[37m\u001b[0m \u001b[1m7s\u001b[0m 30ms/step - accuracy: 0.6521 - loss: 0.6301 - val_accuracy: 0.8259 - val_loss: 0.4367\n",
            "Epoch 2/5\n",
            "\u001b[1m115/115\u001b[0m \u001b[32m━━━━━━━━━━━━━━━━━━━━\u001b[0m\u001b[37m\u001b[0m \u001b[1m2s\u001b[0m 18ms/step - accuracy: 0.8841 - loss: 0.3112 - val_accuracy: 0.8009 - val_loss: 0.4203\n",
            "Epoch 3/5\n",
            "\u001b[1m115/115\u001b[0m \u001b[32m━━━━━━━━━━━━━━━━━━━━\u001b[0m\u001b[37m\u001b[0m \u001b[1m2s\u001b[0m 17ms/step - accuracy: 0.9440 - loss: 0.1667 - val_accuracy: 0.8161 - val_loss: 0.4718\n",
            "Epoch 4/5\n",
            "\u001b[1m115/115\u001b[0m \u001b[32m━━━━━━━━━━━━━━━━━━━━\u001b[0m\u001b[37m\u001b[0m \u001b[1m2s\u001b[0m 17ms/step - accuracy: 0.9779 - loss: 0.0742 - val_accuracy: 0.8085 - val_loss: 0.5980\n",
            "Epoch 5/5\n",
            "\u001b[1m115/115\u001b[0m \u001b[32m━━━━━━━━━━━━━━━━━━━━\u001b[0m\u001b[37m\u001b[0m \u001b[1m2s\u001b[0m 17ms/step - accuracy: 0.9836 - loss: 0.0498 - val_accuracy: 0.7965 - val_loss: 0.6752\n"
          ]
        },
        {
          "output_type": "execute_result",
          "data": {
            "text/plain": [
              "<keras.src.callbacks.history.History at 0x7dd429b6be00>"
            ]
          },
          "metadata": {},
          "execution_count": 30
        }
      ]
    },
    {
      "cell_type": "code",
      "source": [
        "def predict_fake_news(text):\n",
        "    cleaned = clean_text(text.lower().strip())\n",
        "    seq = tok.texts_to_sequences([cleaned])\n",
        "    pad = pad_sequences(seq, maxlen=maxlen, padding='post')\n",
        "    prob = model.predict(pad)[0][0]\n",
        "    return \"FAKE\" if prob > 0.5 else \"REAL\", prob\n",
        "\n",
        "# Example usage\n",
        "print(predict_fake_news(\"NASA has confirmed aliens landed in Nevada.\"))\n"
      ],
      "metadata": {
        "colab": {
          "base_uri": "https://localhost:8080/"
        },
        "id": "_KYrnUu6RD-P",
        "outputId": "102d3b5e-835e-4ede-e648-5c3123dc5761"
      },
      "execution_count": 31,
      "outputs": [
        {
          "output_type": "stream",
          "name": "stdout",
          "text": [
            "\u001b[1m1/1\u001b[0m \u001b[32m━━━━━━━━━━━━━━━━━━━━\u001b[0m\u001b[37m\u001b[0m \u001b[1m0s\u001b[0m 230ms/step\n",
            "('FAKE', np.float32(0.98850244))\n"
          ]
        }
      ]
    }
  ]
}